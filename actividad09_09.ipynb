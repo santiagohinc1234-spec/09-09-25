{
  "nbformat": 4,
  "nbformat_minor": 0,
  "metadata": {
    "colab": {
      "provenance": []
    },
    "kernelspec": {
      "name": "python3",
      "display_name": "Python 3"
    },
    "language_info": {
      "name": "python"
    }
  },
  "cells": [
    {
      "cell_type": "code",
      "source": [
        "edades = [28, 41, 6, 18, 23]\n",
        "for i in range(len(edades)):\n",
        "  print(edades[i])"
      ],
      "metadata": {
        "colab": {
          "base_uri": "https://localhost:8080/"
        },
        "id": "IhGJ3tPEz3zu",
        "outputId": "3d0b3ee0-7474-45ed-c249-60f7eb986ef5"
      },
      "execution_count": 21,
      "outputs": [
        {
          "output_type": "stream",
          "name": "stdout",
          "text": [
            "28\n",
            "41\n",
            "6\n",
            "18\n",
            "23\n"
          ]
        }
      ]
    },
    {
      "cell_type": "code",
      "source": [
        "edades = [28, 41, 6, 18, 23]\n",
        "indice = 0\n",
        "while indice < len(edades):\n",
        "  print(edades[indice])\n",
        "  indice += 1"
      ],
      "metadata": {
        "colab": {
          "base_uri": "https://localhost:8080/"
        },
        "id": "aMXFHdmj0-C7",
        "outputId": "29a175c7-6477-45c1-ffbf-72fba6760d80"
      },
      "execution_count": 22,
      "outputs": [
        {
          "output_type": "stream",
          "name": "stdout",
          "text": [
            "28\n",
            "41\n",
            "6\n",
            "18\n",
            "23\n"
          ]
        }
      ]
    },
    {
      "cell_type": "code",
      "source": [
        "edades = [28, 41, 6, 18, 23]\n",
        "\n",
        "edades.append [10]\n",
        "edades.append [15]\n",
        "edades.append [50]\n",
        "\n",
        "indice = 0\n",
        "\n",
        "while indice < len(edades):\n",
        "\n",
        "  print(edades[indice])\n",
        "  indice += 1\n",
        "\n",
        "\n"
      ],
      "metadata": {
        "id": "30ryMUYP2trF"
      },
      "execution_count": null,
      "outputs": []
    },
    {
      "cell_type": "code",
      "source": [
        "numeros = []\n",
        "numeros = numeros +[2, 3, 4]\n",
        "print (numeros)"
      ],
      "metadata": {
        "id": "vvZnYHha4c6Z"
      },
      "execution_count": null,
      "outputs": []
    }
  ]
}